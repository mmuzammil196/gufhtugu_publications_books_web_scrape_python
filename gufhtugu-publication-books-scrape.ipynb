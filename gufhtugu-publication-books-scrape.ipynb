{
 "cells": [
  {
   "cell_type": "markdown",
   "metadata": {},
   "source": [
    "# Gufhtugu Publication Books Web Scraping Using Python , Requests & Beautiful Soup "
   ]
  },
  {
   "cell_type": "markdown",
   "metadata": {},
   "source": [
    "### Pick a website and describe your objective\n",
    "- Browse through different sites and pick on to scrape. Check the \"Project Ideas\" section for inspiration.\n",
    "- Identify the information you'd like to scrape from the site. Decide the format of the output CSV file.\n",
    "- Summarize your project idea and outline your strategy in a Juptyer notebook. Use the \"New\" button above."
   ]
  },
  {
   "cell_type": "markdown",
   "metadata": {},
   "source": [
    "## Project Outline\n",
    "\n",
    "- I;m going to scrape \n",
    "- Best Selling books          : https://gufhtugu.com/product-category/best-selling/\n",
    "- SciFi books                 : https://gufhtugu.com/product-category/scifi/\n",
    "- Books under 750pkr          : https://gufhtugu.com/product-category/books-under-750pkr/\n",
    "- Mix books                   : https://gufhtugu.com/product-category/mix/\n",
    "- Children books              : https://gufhtugu.com/product-category/main-children-books/\n",
    "- Islamic books               : https://gufhtugu.com/product-category/islamic-books/\n",
    "- Urdu Literature books       : https://gufhtugu.com/product-category/urdu-literature-2/\n",
    "- Urdu science books          : https://gufhtugu.com/product-category/urdu-science/\n",
    "- Zinda Kitaben books         : https://gufhtugu.com/product-category/zinda-kitabein/\n",
    "- Uncategorized books         : https://gufhtugu.com/product-category/uncategorized/\n",
    "- Technical books             : https://gufhtugu.com/product-category/technical/\n",
    "- Upcoming books              : https://gufhtugu.com/product-category/upcoming-books/\n",
    "- Booksets books              : https://gufhtugu.com/product-category/book-sets/\n",
    "- Classics books              : https://gufhtugu.com/product-category/classics/\n",
    "- English Literature books    : https://gufhtugu.com/product-category/english-literature/\n",
    "- Health books                : https://gufhtugu.com/product-category/health/\n",
    "- Gufhtugu Publications books : https://gufhtugu.com/product-category/gufhtugu-publications/\n",
    "\n",
    "\n",
    "\n",
    "\n",
    "\n",
    "\n",
    "\n",
    "\n",
    "\n",
    "\n",
    "- I'll get a list of All books. For each books,I'll get book title,book selling category and book url \n",
    "- For each Book, we'll get the all books from the gufhtugu publication webpages\n",
    "- For each book we'll create a CSV file in the following format:\n",
    "- book_title, book_selling_cat, book_url"
   ]
  },
  {
   "cell_type": "markdown",
   "metadata": {},
   "source": [
    "## Import all the Libraries , we will use for this project"
   ]
  },
  {
   "cell_type": "code",
   "execution_count": 38,
   "metadata": {},
   "outputs": [],
   "source": [
    "import requests\n",
    "from bs4 import BeautifulSoup\n",
    "import re\n",
    "import pandas as pd"
   ]
  },
  {
   "cell_type": "markdown",
   "metadata": {},
   "source": [
    "## 1. Use the requests library to download best selling books web page "
   ]
  },
  {
   "cell_type": "code",
   "execution_count": 3,
   "metadata": {},
   "outputs": [],
   "source": [
    "books_url = 'https://gufhtugu.com/product-category/best-selling/'"
   ]
  },
  {
   "cell_type": "code",
   "execution_count": 5,
   "metadata": {},
   "outputs": [],
   "source": [
    "response = requests.get(books_url)"
   ]
  },
  {
   "cell_type": "code",
   "execution_count": 7,
   "metadata": {},
   "outputs": [
    {
     "data": {
      "text/plain": [
       "200"
      ]
     },
     "execution_count": 7,
     "metadata": {},
     "output_type": "execute_result"
    }
   ],
   "source": [
    "response.status_code"
   ]
  },
  {
   "cell_type": "code",
   "execution_count": 8,
   "metadata": {},
   "outputs": [
    {
     "data": {
      "text/plain": [
       "209007"
      ]
     },
     "execution_count": 8,
     "metadata": {},
     "output_type": "execute_result"
    }
   ],
   "source": [
    "len(response.text)"
   ]
  },
  {
   "cell_type": "code",
   "execution_count": 9,
   "metadata": {},
   "outputs": [],
   "source": [
    "page_contents = response.text"
   ]
  },
  {
   "cell_type": "code",
   "execution_count": 10,
   "metadata": {},
   "outputs": [
    {
     "data": {
      "text/plain": [
       "'<!DOCTYPE html>\\n<!--[if IE 9 ]> <html lang=\"en-US\" class=\"ie9 loading-site no-js\"> <![endif]-->\\n<!--[if IE 8 ]> <html lang=\"en-US\" class=\"ie8 loading-site no-js\"> <![endif]-->\\n<!--[if (gte IE 9)|!(IE)]><!--><html lang=\"en-US\" class=\"loading-site no-js\"> <!--<![endif]-->\\n<head>\\n\\t<meta charset=\"UTF-8\" />\\n\\t<link rel=\"profile\" href=\"http://gmpg.org/xfn/11\" />\\n\\t<link rel=\"pingback\" href=\"https://gufhtugu.com/xmlrpc.php\" />\\n\\t\\n\\t<meta name=\"google-site-verification\" content=\"75Dz3vcS7WGTEeoUdZESu7o3lAhjPOEmJfuZHgKbPYc\" />\\n\\n\\t<script>(function(html){html.className = html.className.replace(/\\\\bno-js\\\\b/,\\'js\\')})(document.documentElement);</script>\\n<meta name=\\'robots\\' content=\\'index, follow, max-image-preview:large, max-snippet:-1, max-video-preview:-1\\' />\\n<meta name=\"viewport\" content=\"width=device-width, initial-scale=1, maximum-scale=1\" />\\n\\t<!-- This site is optimized with the Yoast SEO plugin v18.2 - https://yoast.com/wordpress/plugins/seo/ -->\\n\\t<link type=\"text/css\" media=\"all\" href=\"https://guf'"
      ]
     },
     "execution_count": 10,
     "metadata": {},
     "output_type": "execute_result"
    }
   ],
   "source": [
    "page_contents[:1000]"
   ]
  },
  {
   "cell_type": "markdown",
   "metadata": {},
   "source": [
    "## Use Beautiful Soup to parse and extract information"
   ]
  },
  {
   "cell_type": "code",
   "execution_count": 11,
   "metadata": {},
   "outputs": [],
   "source": [
    "doc = BeautifulSoup(page_contents, 'html.parser')"
   ]
  },
  {
   "cell_type": "code",
   "execution_count": 84,
   "metadata": {},
   "outputs": [
    {
     "name": "stdout",
     "output_type": "stream",
     "text": [
      "  book_title book_sell_cat                           book_url\n",
      "0      (C++)  Best Selling  https://gufhtugu.com/c-plus-plus/\n",
      "                book_title book_sell_cat  \\\n",
      "0                    (C++)  Best Selling   \n",
      "1  Artificial Intelligence  Best Selling   \n",
      "\n",
      "                                        book_url  \n",
      "0              https://gufhtugu.com/c-plus-plus/  \n",
      "1  https://gufhtugu.com/artificial-intelligence/  \n",
      "                                  book_title book_sell_cat  \\\n",
      "0                                      (C++)  Best Selling   \n",
      "1                    Artificial Intelligence  Best Selling   \n",
      "2  Bosnia Pe Kya Guzri?- بوسنیا پر کیا گذری؟  Best Selling   \n",
      "\n",
      "                                        book_url  \n",
      "0              https://gufhtugu.com/c-plus-plus/  \n",
      "1  https://gufhtugu.com/artificial-intelligence/  \n",
      "2                   https://gufhtugu.com/bosnia/  \n",
      "                                  book_title book_sell_cat  \\\n",
      "0                                      (C++)  Best Selling   \n",
      "1                    Artificial Intelligence  Best Selling   \n",
      "2  Bosnia Pe Kya Guzri?- بوسنیا پر کیا گذری؟  Best Selling   \n",
      "3                               Dasht e Wafa  Best Selling   \n",
      "\n",
      "                                        book_url  \n",
      "0              https://gufhtugu.com/c-plus-plus/  \n",
      "1  https://gufhtugu.com/artificial-intelligence/  \n",
      "2                   https://gufhtugu.com/bosnia/  \n",
      "3     https://gufhtugu.com/product/dasht-e-wafa/  \n",
      "                                  book_title book_sell_cat  \\\n",
      "0                                      (C++)  Best Selling   \n",
      "1                    Artificial Intelligence  Best Selling   \n",
      "2  Bosnia Pe Kya Guzri?- بوسنیا پر کیا گذری؟  Best Selling   \n",
      "3                               Dasht e Wafa  Best Selling   \n",
      "4                    Data Science-ڈیٹا سائنس  Best Selling   \n",
      "\n",
      "                                        book_url  \n",
      "0              https://gufhtugu.com/c-plus-plus/  \n",
      "1  https://gufhtugu.com/artificial-intelligence/  \n",
      "2                   https://gufhtugu.com/bosnia/  \n",
      "3     https://gufhtugu.com/product/dasht-e-wafa/  \n",
      "4             https://gufhtugu.com/data-science/  \n",
      "                                  book_title book_sell_cat  \\\n",
      "0                                      (C++)  Best Selling   \n",
      "1                    Artificial Intelligence  Best Selling   \n",
      "2  Bosnia Pe Kya Guzri?- بوسنیا پر کیا گذری؟  Best Selling   \n",
      "3                               Dasht e Wafa  Best Selling   \n",
      "4                    Data Science-ڈیٹا سائنس  Best Selling   \n",
      "\n",
      "                                        book_url  \n",
      "0              https://gufhtugu.com/c-plus-plus/  \n",
      "1  https://gufhtugu.com/artificial-intelligence/  \n",
      "2                   https://gufhtugu.com/bosnia/  \n",
      "3     https://gufhtugu.com/product/dasht-e-wafa/  \n",
      "4             https://gufhtugu.com/data-science/  \n",
      "                                  book_title book_sell_cat  \\\n",
      "0                                      (C++)  Best Selling   \n",
      "1                    Artificial Intelligence  Best Selling   \n",
      "2  Bosnia Pe Kya Guzri?- بوسنیا پر کیا گذری؟  Best Selling   \n",
      "3                               Dasht e Wafa  Best Selling   \n",
      "4                    Data Science-ڈیٹا سائنس  Best Selling   \n",
      "\n",
      "                                        book_url  \n",
      "0              https://gufhtugu.com/c-plus-plus/  \n",
      "1  https://gufhtugu.com/artificial-intelligence/  \n",
      "2                   https://gufhtugu.com/bosnia/  \n",
      "3     https://gufhtugu.com/product/dasht-e-wafa/  \n",
      "4             https://gufhtugu.com/data-science/  \n",
      "                                  book_title book_sell_cat  \\\n",
      "0                                      (C++)  Best Selling   \n",
      "1                    Artificial Intelligence  Best Selling   \n",
      "2  Bosnia Pe Kya Guzri?- بوسنیا پر کیا گذری؟  Best Selling   \n",
      "3                               Dasht e Wafa  Best Selling   \n",
      "4                    Data Science-ڈیٹا سائنس  Best Selling   \n",
      "\n",
      "                                        book_url  \n",
      "0              https://gufhtugu.com/c-plus-plus/  \n",
      "1  https://gufhtugu.com/artificial-intelligence/  \n",
      "2                   https://gufhtugu.com/bosnia/  \n",
      "3     https://gufhtugu.com/product/dasht-e-wafa/  \n",
      "4             https://gufhtugu.com/data-science/  \n",
      "                                  book_title book_sell_cat  \\\n",
      "0                                      (C++)  Best Selling   \n",
      "1                    Artificial Intelligence  Best Selling   \n",
      "2  Bosnia Pe Kya Guzri?- بوسنیا پر کیا گذری؟  Best Selling   \n",
      "3                               Dasht e Wafa  Best Selling   \n",
      "4                    Data Science-ڈیٹا سائنس  Best Selling   \n",
      "\n",
      "                                        book_url  \n",
      "0              https://gufhtugu.com/c-plus-plus/  \n",
      "1  https://gufhtugu.com/artificial-intelligence/  \n",
      "2                   https://gufhtugu.com/bosnia/  \n",
      "3     https://gufhtugu.com/product/dasht-e-wafa/  \n",
      "4             https://gufhtugu.com/data-science/  \n",
      "                                  book_title book_sell_cat  \\\n",
      "0                                      (C++)  Best Selling   \n",
      "1                    Artificial Intelligence  Best Selling   \n",
      "2  Bosnia Pe Kya Guzri?- بوسنیا پر کیا گذری؟  Best Selling   \n",
      "3                               Dasht e Wafa  Best Selling   \n",
      "4                    Data Science-ڈیٹا سائنس  Best Selling   \n",
      "\n",
      "                                        book_url  \n",
      "0              https://gufhtugu.com/c-plus-plus/  \n",
      "1  https://gufhtugu.com/artificial-intelligence/  \n",
      "2                   https://gufhtugu.com/bosnia/  \n",
      "3     https://gufhtugu.com/product/dasht-e-wafa/  \n",
      "4             https://gufhtugu.com/data-science/  \n",
      "                                  book_title book_sell_cat  \\\n",
      "0                                      (C++)  Best Selling   \n",
      "1                    Artificial Intelligence  Best Selling   \n",
      "2  Bosnia Pe Kya Guzri?- بوسنیا پر کیا گذری؟  Best Selling   \n",
      "3                               Dasht e Wafa  Best Selling   \n",
      "4                    Data Science-ڈیٹا سائنس  Best Selling   \n",
      "\n",
      "                                        book_url  \n",
      "0              https://gufhtugu.com/c-plus-plus/  \n",
      "1  https://gufhtugu.com/artificial-intelligence/  \n",
      "2                   https://gufhtugu.com/bosnia/  \n",
      "3     https://gufhtugu.com/product/dasht-e-wafa/  \n",
      "4             https://gufhtugu.com/data-science/  \n",
      "                                  book_title book_sell_cat  \\\n",
      "0                                      (C++)  Best Selling   \n",
      "1                    Artificial Intelligence  Best Selling   \n",
      "2  Bosnia Pe Kya Guzri?- بوسنیا پر کیا گذری؟  Best Selling   \n",
      "3                               Dasht e Wafa  Best Selling   \n",
      "4                    Data Science-ڈیٹا سائنس  Best Selling   \n",
      "\n",
      "                                        book_url  \n",
      "0              https://gufhtugu.com/c-plus-plus/  \n",
      "1  https://gufhtugu.com/artificial-intelligence/  \n",
      "2                   https://gufhtugu.com/bosnia/  \n",
      "3     https://gufhtugu.com/product/dasht-e-wafa/  \n",
      "4             https://gufhtugu.com/data-science/  \n",
      "                                  book_title book_sell_cat  \\\n",
      "0                                      (C++)  Best Selling   \n",
      "1                    Artificial Intelligence  Best Selling   \n",
      "2  Bosnia Pe Kya Guzri?- بوسنیا پر کیا گذری؟  Best Selling   \n",
      "3                               Dasht e Wafa  Best Selling   \n",
      "4                    Data Science-ڈیٹا سائنس  Best Selling   \n",
      "\n",
      "                                        book_url  \n",
      "0              https://gufhtugu.com/c-plus-plus/  \n",
      "1  https://gufhtugu.com/artificial-intelligence/  \n",
      "2                   https://gufhtugu.com/bosnia/  \n",
      "3     https://gufhtugu.com/product/dasht-e-wafa/  \n",
      "4             https://gufhtugu.com/data-science/  \n",
      "                                  book_title book_sell_cat  \\\n",
      "0                                      (C++)  Best Selling   \n",
      "1                    Artificial Intelligence  Best Selling   \n",
      "2  Bosnia Pe Kya Guzri?- بوسنیا پر کیا گذری؟  Best Selling   \n",
      "3                               Dasht e Wafa  Best Selling   \n",
      "4                    Data Science-ڈیٹا سائنس  Best Selling   \n",
      "\n",
      "                                        book_url  \n",
      "0              https://gufhtugu.com/c-plus-plus/  \n",
      "1  https://gufhtugu.com/artificial-intelligence/  \n",
      "2                   https://gufhtugu.com/bosnia/  \n",
      "3     https://gufhtugu.com/product/dasht-e-wafa/  \n",
      "4             https://gufhtugu.com/data-science/  \n",
      "                                  book_title book_sell_cat  \\\n",
      "0                                      (C++)  Best Selling   \n",
      "1                    Artificial Intelligence  Best Selling   \n",
      "2  Bosnia Pe Kya Guzri?- بوسنیا پر کیا گذری؟  Best Selling   \n",
      "3                               Dasht e Wafa  Best Selling   \n",
      "4                    Data Science-ڈیٹا سائنس  Best Selling   \n",
      "\n",
      "                                        book_url  \n",
      "0              https://gufhtugu.com/c-plus-plus/  \n",
      "1  https://gufhtugu.com/artificial-intelligence/  \n",
      "2                   https://gufhtugu.com/bosnia/  \n",
      "3     https://gufhtugu.com/product/dasht-e-wafa/  \n",
      "4             https://gufhtugu.com/data-science/  \n",
      "                                  book_title book_sell_cat  \\\n",
      "0                                      (C++)  Best Selling   \n",
      "1                    Artificial Intelligence  Best Selling   \n",
      "2  Bosnia Pe Kya Guzri?- بوسنیا پر کیا گذری؟  Best Selling   \n",
      "3                               Dasht e Wafa  Best Selling   \n",
      "4                    Data Science-ڈیٹا سائنس  Best Selling   \n",
      "\n",
      "                                        book_url  \n",
      "0              https://gufhtugu.com/c-plus-plus/  \n",
      "1  https://gufhtugu.com/artificial-intelligence/  \n",
      "2                   https://gufhtugu.com/bosnia/  \n",
      "3     https://gufhtugu.com/product/dasht-e-wafa/  \n",
      "4             https://gufhtugu.com/data-science/  \n",
      "                                  book_title book_sell_cat  \\\n",
      "0                                      (C++)  Best Selling   \n",
      "1                    Artificial Intelligence  Best Selling   \n",
      "2  Bosnia Pe Kya Guzri?- بوسنیا پر کیا گذری؟  Best Selling   \n",
      "3                               Dasht e Wafa  Best Selling   \n",
      "4                    Data Science-ڈیٹا سائنس  Best Selling   \n",
      "\n",
      "                                        book_url  \n",
      "0              https://gufhtugu.com/c-plus-plus/  \n",
      "1  https://gufhtugu.com/artificial-intelligence/  \n",
      "2                   https://gufhtugu.com/bosnia/  \n",
      "3     https://gufhtugu.com/product/dasht-e-wafa/  \n",
      "4             https://gufhtugu.com/data-science/  \n",
      "                                  book_title book_sell_cat  \\\n",
      "0                                      (C++)  Best Selling   \n",
      "1                    Artificial Intelligence  Best Selling   \n",
      "2  Bosnia Pe Kya Guzri?- بوسنیا پر کیا گذری؟  Best Selling   \n",
      "3                               Dasht e Wafa  Best Selling   \n",
      "4                    Data Science-ڈیٹا سائنس  Best Selling   \n",
      "\n",
      "                                        book_url  \n",
      "0              https://gufhtugu.com/c-plus-plus/  \n",
      "1  https://gufhtugu.com/artificial-intelligence/  \n",
      "2                   https://gufhtugu.com/bosnia/  \n",
      "3     https://gufhtugu.com/product/dasht-e-wafa/  \n",
      "4             https://gufhtugu.com/data-science/  \n",
      "                                  book_title book_sell_cat  \\\n",
      "0                                      (C++)  Best Selling   \n",
      "1                    Artificial Intelligence  Best Selling   \n",
      "2  Bosnia Pe Kya Guzri?- بوسنیا پر کیا گذری؟  Best Selling   \n",
      "3                               Dasht e Wafa  Best Selling   \n",
      "4                    Data Science-ڈیٹا سائنس  Best Selling   \n",
      "\n",
      "                                        book_url  \n",
      "0              https://gufhtugu.com/c-plus-plus/  \n",
      "1  https://gufhtugu.com/artificial-intelligence/  \n",
      "2                   https://gufhtugu.com/bosnia/  \n",
      "3     https://gufhtugu.com/product/dasht-e-wafa/  \n",
      "4             https://gufhtugu.com/data-science/  \n",
      "                                  book_title book_sell_cat  \\\n",
      "0                                      (C++)  Best Selling   \n",
      "1                    Artificial Intelligence  Best Selling   \n",
      "2  Bosnia Pe Kya Guzri?- بوسنیا پر کیا گذری؟  Best Selling   \n",
      "3                               Dasht e Wafa  Best Selling   \n",
      "4                    Data Science-ڈیٹا سائنس  Best Selling   \n",
      "\n",
      "                                        book_url  \n",
      "0              https://gufhtugu.com/c-plus-plus/  \n",
      "1  https://gufhtugu.com/artificial-intelligence/  \n",
      "2                   https://gufhtugu.com/bosnia/  \n",
      "3     https://gufhtugu.com/product/dasht-e-wafa/  \n",
      "4             https://gufhtugu.com/data-science/  \n",
      "                                  book_title book_sell_cat  \\\n",
      "0                                      (C++)  Best Selling   \n",
      "1                    Artificial Intelligence  Best Selling   \n",
      "2  Bosnia Pe Kya Guzri?- بوسنیا پر کیا گذری؟  Best Selling   \n",
      "3                               Dasht e Wafa  Best Selling   \n",
      "4                    Data Science-ڈیٹا سائنس  Best Selling   \n",
      "\n",
      "                                        book_url  \n",
      "0              https://gufhtugu.com/c-plus-plus/  \n",
      "1  https://gufhtugu.com/artificial-intelligence/  \n",
      "2                   https://gufhtugu.com/bosnia/  \n",
      "3     https://gufhtugu.com/product/dasht-e-wafa/  \n",
      "4             https://gufhtugu.com/data-science/  \n",
      "                                  book_title book_sell_cat  \\\n",
      "0                                      (C++)  Best Selling   \n",
      "1                    Artificial Intelligence  Best Selling   \n",
      "2  Bosnia Pe Kya Guzri?- بوسنیا پر کیا گذری؟  Best Selling   \n",
      "3                               Dasht e Wafa  Best Selling   \n",
      "4                    Data Science-ڈیٹا سائنس  Best Selling   \n",
      "\n",
      "                                        book_url  \n",
      "0              https://gufhtugu.com/c-plus-plus/  \n",
      "1  https://gufhtugu.com/artificial-intelligence/  \n",
      "2                   https://gufhtugu.com/bosnia/  \n",
      "3     https://gufhtugu.com/product/dasht-e-wafa/  \n",
      "4             https://gufhtugu.com/data-science/  \n"
     ]
    }
   ],
   "source": [
    "books_divs = doc.find_all('div', class_ = \"box-text box-text-products text-center grid-style-2\")\n",
    "for item in books_divs:\n",
    "    book_title = item.find('a', class_ = \"woocommerce-LoopProduct-link woocommerce-loop-product__link\").text.strip()\n",
    "        \n",
    "    book_sell_cat = item.find('p', class_ = \"category uppercase is-smaller no-text-overflow product-cat op-7\").text.strip().replace('AR Usmani', 'Best Selling')\n",
    "    book_selling_category = book_sell_cat.replace('Afsanay U', 'Best Selling')\n",
    "    book_url = item.find('a', attrs={'href': re.compile(\"^https://\")})\n",
    "    books_url = book_url.get('href')\n",
    "    \n",
    "#     print(book_title)\n",
    "    books_bs = {\n",
    "            'book_title'    : book_title,\n",
    "            'book_sell_cat' : book_selling_category,\n",
    "            'book_url': books_url,\n",
    "            \n",
    "        }\n",
    "    book.append(books_bs)\n",
    "#         print(booklist)\n",
    "        \n",
    "\n",
    "    df = pd.DataFrame(book)\n",
    "#     print(df.head())\n",
    "    df.to_csv('best_selling_gp_books.csv', index = False)\n",
    "\n",
    "    \n",
    "                                 "
   ]
  },
  {
   "cell_type": "code",
   "execution_count": 83,
   "metadata": {},
   "outputs": [],
   "source": [
    "book = []"
   ]
  },
  {
   "cell_type": "code",
   "execution_count": 88,
   "metadata": {},
   "outputs": [],
   "source": [
    "df = pd.read_csv('best_selling_gp_books.csv')"
   ]
  },
  {
   "cell_type": "code",
   "execution_count": 89,
   "metadata": {},
   "outputs": [
    {
     "data": {
      "text/html": [
       "<div>\n",
       "<style scoped>\n",
       "    .dataframe tbody tr th:only-of-type {\n",
       "        vertical-align: middle;\n",
       "    }\n",
       "\n",
       "    .dataframe tbody tr th {\n",
       "        vertical-align: top;\n",
       "    }\n",
       "\n",
       "    .dataframe thead th {\n",
       "        text-align: right;\n",
       "    }\n",
       "</style>\n",
       "<table border=\"1\" class=\"dataframe\">\n",
       "  <thead>\n",
       "    <tr style=\"text-align: right;\">\n",
       "      <th></th>\n",
       "      <th>book_title</th>\n",
       "      <th>book_sell_cat</th>\n",
       "      <th>book_url</th>\n",
       "    </tr>\n",
       "  </thead>\n",
       "  <tbody>\n",
       "    <tr>\n",
       "      <th>0</th>\n",
       "      <td>(C++)</td>\n",
       "      <td>Best Selling</td>\n",
       "      <td>https://gufhtugu.com/c-plus-plus/</td>\n",
       "    </tr>\n",
       "    <tr>\n",
       "      <th>1</th>\n",
       "      <td>Artificial Intelligence</td>\n",
       "      <td>Best Selling</td>\n",
       "      <td>https://gufhtugu.com/artificial-intelligence/</td>\n",
       "    </tr>\n",
       "    <tr>\n",
       "      <th>2</th>\n",
       "      <td>Bosnia Pe Kya Guzri?- بوسنیا پر کیا گذری؟</td>\n",
       "      <td>Best Selling</td>\n",
       "      <td>https://gufhtugu.com/bosnia/</td>\n",
       "    </tr>\n",
       "    <tr>\n",
       "      <th>3</th>\n",
       "      <td>Dasht e Wafa</td>\n",
       "      <td>Best Selling</td>\n",
       "      <td>https://gufhtugu.com/product/dasht-e-wafa/</td>\n",
       "    </tr>\n",
       "    <tr>\n",
       "      <th>4</th>\n",
       "      <td>Data Science-ڈیٹا سائنس</td>\n",
       "      <td>Best Selling</td>\n",
       "      <td>https://gufhtugu.com/data-science/</td>\n",
       "    </tr>\n",
       "    <tr>\n",
       "      <th>5</th>\n",
       "      <td>Data Visualization –Set</td>\n",
       "      <td>Best Selling</td>\n",
       "      <td>https://gufhtugu.com/data-visualization-set/</td>\n",
       "    </tr>\n",
       "    <tr>\n",
       "      <th>6</th>\n",
       "      <td>Dawat e Sang</td>\n",
       "      <td>Best Selling</td>\n",
       "      <td>https://gufhtugu.com/product/dawat-e-sang/</td>\n",
       "    </tr>\n",
       "    <tr>\n",
       "      <th>7</th>\n",
       "      <td>Ek Tha Algorithm-ایک تھا الگورتھم</td>\n",
       "      <td>Best Selling</td>\n",
       "      <td>https://gufhtugu.com/ek-tha-algorithm/</td>\n",
       "    </tr>\n",
       "    <tr>\n",
       "      <th>8</th>\n",
       "      <td>Fear Management – A Spiritual Insight into Ove...</td>\n",
       "      <td>Best Selling</td>\n",
       "      <td>https://gufhtugu.com/product/fear-management-a...</td>\n",
       "    </tr>\n",
       "    <tr>\n",
       "      <th>9</th>\n",
       "      <td>Gham Bhee Gum Nhi Hoty</td>\n",
       "      <td>Best Selling</td>\n",
       "      <td>https://gufhtugu.com/product/gham-bhee-gum-nhi...</td>\n",
       "    </tr>\n",
       "    <tr>\n",
       "      <th>10</th>\n",
       "      <td>Internet Se Paise Kamain-انٹرنیٹ سے پیسہ کمائیں</td>\n",
       "      <td>Best Selling</td>\n",
       "      <td>https://gufhtugu.com/freelancing/</td>\n",
       "    </tr>\n",
       "    <tr>\n",
       "      <th>11</th>\n",
       "      <td>Introduction to Blockchain with Case Studies</td>\n",
       "      <td>Best Selling</td>\n",
       "      <td>https://gufhtugu.com/product/introduction-to-b...</td>\n",
       "    </tr>\n",
       "    <tr>\n",
       "      <th>12</th>\n",
       "      <td>Irteqa Shaheen</td>\n",
       "      <td>Best Selling</td>\n",
       "      <td>https://gufhtugu.com/product/irteqa-shaheen/</td>\n",
       "    </tr>\n",
       "    <tr>\n",
       "      <th>13</th>\n",
       "      <td>Kaggle for Begginers</td>\n",
       "      <td>Best Selling</td>\n",
       "      <td>https://gufhtugu.com/product/kaggle-for-beggin...</td>\n",
       "    </tr>\n",
       "    <tr>\n",
       "      <th>14</th>\n",
       "      <td>Linux – An Introduction</td>\n",
       "      <td>Best Selling</td>\n",
       "      <td>https://gufhtugu.com/linux-an-introduction/</td>\n",
       "    </tr>\n",
       "    <tr>\n",
       "      <th>15</th>\n",
       "      <td>LOST ISLAMIC HISTORY</td>\n",
       "      <td>Best Selling</td>\n",
       "      <td>https://gufhtugu.com/lost-islamic-history/</td>\n",
       "    </tr>\n",
       "    <tr>\n",
       "      <th>16</th>\n",
       "      <td>Machine Learning Set (I &amp; II)</td>\n",
       "      <td>Best Selling</td>\n",
       "      <td>https://gufhtugu.com/machine-learning/</td>\n",
       "    </tr>\n",
       "    <tr>\n",
       "      <th>17</th>\n",
       "      <td>Managers as Little Prince by Khurram Ellahi</td>\n",
       "      <td>Best Selling</td>\n",
       "      <td>https://gufhtugu.com/product/managers-as-littl...</td>\n",
       "    </tr>\n",
       "    <tr>\n",
       "      <th>18</th>\n",
       "      <td>Mr Human</td>\n",
       "      <td>Best Selling</td>\n",
       "      <td>https://gufhtugu.com/product/mr-human/</td>\n",
       "    </tr>\n",
       "    <tr>\n",
       "      <th>19</th>\n",
       "      <td>Python Programming</td>\n",
       "      <td>Best Selling</td>\n",
       "      <td>https://gufhtugu.com/python-programming/</td>\n",
       "    </tr>\n",
       "    <tr>\n",
       "      <th>20</th>\n",
       "      <td>Teesra Kinara</td>\n",
       "      <td>Best Selling</td>\n",
       "      <td>https://gufhtugu.com/product/teesra-kinara/</td>\n",
       "    </tr>\n",
       "    <tr>\n",
       "      <th>21</th>\n",
       "      <td>This Book is About You</td>\n",
       "      <td>Best Selling</td>\n",
       "      <td>https://gufhtugu.com/this-book-is-about-you/</td>\n",
       "    </tr>\n",
       "  </tbody>\n",
       "</table>\n",
       "</div>"
      ],
      "text/plain": [
       "                                           book_title book_sell_cat  \\\n",
       "0                                               (C++)  Best Selling   \n",
       "1                             Artificial Intelligence  Best Selling   \n",
       "2           Bosnia Pe Kya Guzri?- بوسنیا پر کیا گذری؟  Best Selling   \n",
       "3                                        Dasht e Wafa  Best Selling   \n",
       "4                             Data Science-ڈیٹا سائنس  Best Selling   \n",
       "5                             Data Visualization –Set  Best Selling   \n",
       "6                                        Dawat e Sang  Best Selling   \n",
       "7                   Ek Tha Algorithm-ایک تھا الگورتھم  Best Selling   \n",
       "8   Fear Management – A Spiritual Insight into Ove...  Best Selling   \n",
       "9                              Gham Bhee Gum Nhi Hoty  Best Selling   \n",
       "10    Internet Se Paise Kamain-انٹرنیٹ سے پیسہ کمائیں  Best Selling   \n",
       "11       Introduction to Blockchain with Case Studies  Best Selling   \n",
       "12                                     Irteqa Shaheen  Best Selling   \n",
       "13                               Kaggle for Begginers  Best Selling   \n",
       "14                            Linux – An Introduction  Best Selling   \n",
       "15                               LOST ISLAMIC HISTORY  Best Selling   \n",
       "16                      Machine Learning Set (I & II)  Best Selling   \n",
       "17        Managers as Little Prince by Khurram Ellahi  Best Selling   \n",
       "18                                           Mr Human  Best Selling   \n",
       "19                                 Python Programming  Best Selling   \n",
       "20                                      Teesra Kinara  Best Selling   \n",
       "21                             This Book is About You  Best Selling   \n",
       "\n",
       "                                             book_url  \n",
       "0                   https://gufhtugu.com/c-plus-plus/  \n",
       "1       https://gufhtugu.com/artificial-intelligence/  \n",
       "2                        https://gufhtugu.com/bosnia/  \n",
       "3          https://gufhtugu.com/product/dasht-e-wafa/  \n",
       "4                  https://gufhtugu.com/data-science/  \n",
       "5        https://gufhtugu.com/data-visualization-set/  \n",
       "6          https://gufhtugu.com/product/dawat-e-sang/  \n",
       "7              https://gufhtugu.com/ek-tha-algorithm/  \n",
       "8   https://gufhtugu.com/product/fear-management-a...  \n",
       "9   https://gufhtugu.com/product/gham-bhee-gum-nhi...  \n",
       "10                  https://gufhtugu.com/freelancing/  \n",
       "11  https://gufhtugu.com/product/introduction-to-b...  \n",
       "12       https://gufhtugu.com/product/irteqa-shaheen/  \n",
       "13  https://gufhtugu.com/product/kaggle-for-beggin...  \n",
       "14        https://gufhtugu.com/linux-an-introduction/  \n",
       "15         https://gufhtugu.com/lost-islamic-history/  \n",
       "16             https://gufhtugu.com/machine-learning/  \n",
       "17  https://gufhtugu.com/product/managers-as-littl...  \n",
       "18             https://gufhtugu.com/product/mr-human/  \n",
       "19           https://gufhtugu.com/python-programming/  \n",
       "20        https://gufhtugu.com/product/teesra-kinara/  \n",
       "21       https://gufhtugu.com/this-book-is-about-you/  "
      ]
     },
     "execution_count": 89,
     "metadata": {},
     "output_type": "execute_result"
    }
   ],
   "source": [
    "df"
   ]
  },
  {
   "cell_type": "markdown",
   "metadata": {},
   "source": [
    "## 2.  Use the requests library to download SciFi books web page "
   ]
  },
  {
   "cell_type": "code",
   "execution_count": 90,
   "metadata": {},
   "outputs": [],
   "source": [
    "def extract(pagen):\n",
    "    headers = 'Mozilla/5.0 (Windows NT 10.0; Win64; x64) AppleWebKit/537.36 (KHTML, like Gecko) Chrome/103.0.0.0 Safari/537.36'\n",
    "    url = f'https://gufhtugu.com/product-category/scifi/page/{pagen}'\n",
    "    response = requests.get(url, headers)\n",
    "    soup = BeautifulSoup(response.text, 'html.parser')\n",
    "    return soup"
   ]
  },
  {
   "cell_type": "code",
   "execution_count": 111,
   "metadata": {},
   "outputs": [],
   "source": [
    "def transform(soup):\n",
    "    divs = soup.find_all('div', class_ = \"box-text box-text-products text-center grid-style-2\")\n",
    "    for item in divs:\n",
    "        book_title = item.find('a').text.strip()\n",
    "        book_sell_cat = item.find('p', class_ = \"category uppercase is-smaller no-text-overflow product-cat op-7\").text.strip()\n",
    "        book_url = item.find('a', attrs={'href': re.compile(\"^https://\")})\n",
    "        books_url = book_url.get('href')\n",
    "    \n",
    "\n",
    "        books_bs = {\n",
    "            'book_title'    : book_title,\n",
    "            'book_sell_cat' : book_sell_cat,\n",
    "            'book_url': books_url,\n",
    "            \n",
    "            }\n",
    "        booklist.append(books_bs)\n",
    "#         print(books_url)\n",
    "        \n",
    "    return "
   ]
  },
  {
   "cell_type": "code",
   "execution_count": 112,
   "metadata": {},
   "outputs": [
    {
     "name": "stdout",
     "output_type": "stream",
     "text": [
      "259\n"
     ]
    }
   ],
   "source": [
    "booklist = []\n",
    "for i in range(1, 12, 1):\n",
    "    Extract = extract(i)\n",
    "    transform(Extract)\n",
    "print(len(booklist))"
   ]
  },
  {
   "cell_type": "code",
   "execution_count": 113,
   "metadata": {},
   "outputs": [
    {
     "name": "stdout",
     "output_type": "stream",
     "text": [
      "             book_title       book_sell_cat  \\\n",
      "0         Aathvan Aadmi  Books Under 750PKR   \n",
      "1                Asadam  Books Under 750PKR   \n",
      "2  Askaram part 1 and 2    Mazhar Kaleem MA   \n",
      "3        Asmani Awazain       Ishtiaq Ahmed   \n",
      "4             Aucha War       Ishtiaq Ahmed   \n",
      "\n",
      "                               book_url  \n",
      "0   https://gufhtugu.com/aathvan-aadmi/  \n",
      "1          https://gufhtugu.com/asadam/  \n",
      "2         https://gufhtugu.com/askaram/  \n",
      "3  https://gufhtugu.com/asmani-awazain/  \n",
      "4       https://gufhtugu.com/aucha-war/  \n"
     ]
    }
   ],
   "source": [
    "book_data = pd.DataFrame(booklist)\n",
    "print(book_data.head())\n",
    "book_data.to_csv('scifi_books.csv', index = False)"
   ]
  },
  {
   "cell_type": "markdown",
   "metadata": {},
   "source": [
    "# 3.  Use the requests library to download books under 750 pkr web page "
   ]
  },
  {
   "cell_type": "code",
   "execution_count": 114,
   "metadata": {},
   "outputs": [],
   "source": [
    "def extract(pagen):\n",
    "    headers = 'Mozilla/5.0 (Windows NT 10.0; Win64; x64) AppleWebKit/537.36 (KHTML, like Gecko) Chrome/103.0.0.0 Safari/537.36'\n",
    "    url = f'https://gufhtugu.com/product-category/books-under-750pkr/page/{pagen}'\n",
    "    response = requests.get(url, headers)\n",
    "    soup = BeautifulSoup(response.text, 'html.parser')\n",
    "    return soup"
   ]
  },
  {
   "cell_type": "code",
   "execution_count": 115,
   "metadata": {},
   "outputs": [],
   "source": [
    "def transform(soup):\n",
    "    divs = soup.find_all('div', class_ = \"box-text box-text-products text-center grid-style-2\")\n",
    "    for item in divs:\n",
    "        book_title = item.find('a').text.strip()\n",
    "        book_under_750 = item.find('p', class_ = \"category uppercase is-smaller no-text-overflow product-cat op-7\").text.strip()\n",
    "        book_url = item.find('a', attrs={'href': re.compile(\"^https://\")})\n",
    "        books_url = book_url.get('href')\n",
    "    \n",
    "\n",
    "        books_bs = {\n",
    "            'book_title'    : book_title,\n",
    "            'book_sell_cat' : book_under_750,\n",
    "            'book_url': books_url,\n",
    "            \n",
    "            }\n",
    "        book_un_750_list.append(books_bs)\n",
    "#         print(books_url)\n",
    "        \n",
    "    return "
   ]
  },
  {
   "cell_type": "code",
   "execution_count": 116,
   "metadata": {},
   "outputs": [
    {
     "name": "stdout",
     "output_type": "stream",
     "text": [
      "839\n"
     ]
    }
   ],
   "source": [
    "book_un_750_list = []\n",
    "for i in range(1, 36, 1):\n",
    "    Extract = extract(i)\n",
    "    transform(Extract)\n",
    "print(len(book_un_750_list))"
   ]
  },
  {
   "cell_type": "code",
   "execution_count": 118,
   "metadata": {},
   "outputs": [
    {
     "name": "stdout",
     "output_type": "stream",
     "text": [
      "                           book_title       book_sell_cat  \\\n",
      "0                               (C++)        Best Selling   \n",
      "1  10 Rupees wali 25 Kahaniyon ka Set  Books Under 750PKR   \n",
      "2       100 Azeem Sciencey Daryaftain  Books Under 750PKR   \n",
      "3       12 Maheeno’n k Fazail o Ahkam  Books Under 750PKR   \n",
      "4      12 saddi k Ulema e Baresagheer  Books Under 750PKR   \n",
      "\n",
      "                                            book_url  \n",
      "0                  https://gufhtugu.com/c-plus-plus/  \n",
      "1  https://gufhtugu.com/10-rupees-wali-25-kahaniy...  \n",
      "2  https://gufhtugu.com/so-azeem-sciencey-daryaft...  \n",
      "3  https://gufhtugu.com/12-maheenon-k-fazail-o-ah...  \n",
      "4  https://gufhtugu.com/12-saddi-k-ulema-e-baresa...  \n"
     ]
    }
   ],
   "source": [
    "book_data = pd.DataFrame(book_un_750_list)\n",
    "print(book_data.head())\n",
    "book_data.to_csv('books_under_750.csv', index = False)"
   ]
  },
  {
   "cell_type": "markdown",
   "metadata": {},
   "source": [
    "# 4.  Use the requests library to download mix books web pages "
   ]
  },
  {
   "cell_type": "code",
   "execution_count": 119,
   "metadata": {},
   "outputs": [],
   "source": [
    "def extract(pagen):\n",
    "    headers = 'Mozilla/5.0 (Windows NT 10.0; Win64; x64) AppleWebKit/537.36 (KHTML, like Gecko) Chrome/103.0.0.0 Safari/537.36'\n",
    "    url = f'https://gufhtugu.com/product-category/mix/page/{pagen}'\n",
    "    response = requests.get(url, headers)\n",
    "    soup = BeautifulSoup(response.text, 'html.parser')\n",
    "    return soup"
   ]
  },
  {
   "cell_type": "code",
   "execution_count": 120,
   "metadata": {},
   "outputs": [],
   "source": [
    "def transform(soup):\n",
    "    divs = soup.find_all('div', class_ = \"box-text box-text-products text-center grid-style-2\")\n",
    "    for item in divs:\n",
    "        book_title = item.find('a').text.strip()\n",
    "        book_mix = item.find('p', class_ = \"category uppercase is-smaller no-text-overflow product-cat op-7\").text.strip()\n",
    "        book_url = item.find('a', attrs={'href': re.compile(\"^https://\")})\n",
    "        books_url = book_url.get('href')\n",
    "    \n",
    "\n",
    "        books_bs = {\n",
    "            'book_title'    : book_title,\n",
    "            'book_sell_cat' : book_mix,\n",
    "            'book_url': books_url,\n",
    "            \n",
    "            }\n",
    "        book_mix_list.append(books_bs)\n",
    "#         print(books_url)\n",
    "        \n",
    "    return "
   ]
  },
  {
   "cell_type": "code",
   "execution_count": 121,
   "metadata": {},
   "outputs": [
    {
     "name": "stdout",
     "output_type": "stream",
     "text": [
      "1343\n"
     ]
    }
   ],
   "source": [
    "book_mix_list = []\n",
    "for i in range(1, 57, 1):\n",
    "    Extract = extract(i)\n",
    "    transform(Extract)\n",
    "print(len(book_mix_list))"
   ]
  },
  {
   "cell_type": "code",
   "execution_count": 122,
   "metadata": {},
   "outputs": [
    {
     "name": "stdout",
     "output_type": "stream",
     "text": [
      "                       book_title       book_sell_cat  \\\n",
      "0   100 Azeem Sciencey Daryaftain  Books Under 750PKR   \n",
      "1                  101 Dalmatians     Children's Book   \n",
      "2   12 Maheeno’n k Fazail o Ahkam  Books Under 750PKR   \n",
      "3  12 saddi k Ulema e Baresagheer  Books Under 750PKR   \n",
      "4                  1984 – English  Books Under 750PKR   \n",
      "\n",
      "                                            book_url  \n",
      "0  https://gufhtugu.com/so-azeem-sciencey-daryaft...  \n",
      "1               https://gufhtugu.com/101-dalmatians/  \n",
      "2  https://gufhtugu.com/12-maheenon-k-fazail-o-ah...  \n",
      "3  https://gufhtugu.com/12-saddi-k-ulema-e-baresa...  \n",
      "4                 https://gufhtugu.com/1984-english/  \n"
     ]
    }
   ],
   "source": [
    "book_data = pd.DataFrame(book_mix_list)\n",
    "print(book_data.head())\n",
    "book_data.to_csv('books_mix.csv', index = False)"
   ]
  },
  {
   "cell_type": "markdown",
   "metadata": {},
   "source": [
    "# 5.  Use the requests library to download children books web pages "
   ]
  },
  {
   "cell_type": "code",
   "execution_count": 123,
   "metadata": {},
   "outputs": [],
   "source": [
    "def extract(pagen):\n",
    "    headers = 'Mozilla/5.0 (Windows NT 10.0; Win64; x64) AppleWebKit/537.36 (KHTML, like Gecko) Chrome/103.0.0.0 Safari/537.36'\n",
    "    url = f'https://gufhtugu.com/product-category/main-children-books/page/{pagen}'\n",
    "    response = requests.get(url, headers)\n",
    "    soup = BeautifulSoup(response.text, 'html.parser')\n",
    "    return soup"
   ]
  },
  {
   "cell_type": "code",
   "execution_count": 124,
   "metadata": {},
   "outputs": [],
   "source": [
    "def transform(soup):\n",
    "    divs = soup.find_all('div', class_ = \"box-text box-text-products text-center grid-style-2\")\n",
    "    for item in divs:\n",
    "        book_title = item.find('a').text.strip()\n",
    "        book_child = item.find('p', class_ = \"category uppercase is-smaller no-text-overflow product-cat op-7\").text.strip()\n",
    "        book_url = item.find('a', attrs={'href': re.compile(\"^https://\")})\n",
    "        books_url = book_url.get('href')\n",
    "    \n",
    "\n",
    "        books_bs = {\n",
    "            'book_title'    : book_title,\n",
    "            'book_sell_cat' : book_child,\n",
    "            'book_url': books_url,\n",
    "            \n",
    "            }\n",
    "        book_child_list.append(books_bs)\n",
    "#         print(books_url)\n",
    "        \n",
    "    return "
   ]
  },
  {
   "cell_type": "code",
   "execution_count": 125,
   "metadata": {},
   "outputs": [
    {
     "name": "stdout",
     "output_type": "stream",
     "text": [
      "460\n"
     ]
    }
   ],
   "source": [
    "book_child_list = []\n",
    "for i in range(1, 21, 1):\n",
    "    Extract = extract(i)\n",
    "    transform(Extract)\n",
    "print(len(book_child_list))"
   ]
  },
  {
   "cell_type": "code",
   "execution_count": 126,
   "metadata": {},
   "outputs": [
    {
     "name": "stdout",
     "output_type": "stream",
     "text": [
      "                                    book_title      book_sell_cat  \\\n",
      "0                               101 Dalmatians    Children's Book   \n",
      "1                            A Letter to Santa    Children's Book   \n",
      "2                             A Quiet Night in    Children's Book   \n",
      "3                       A Very Special Visitor    Children's Book   \n",
      "4  Aadam Khor Wehshi: Maut Ka Taaqub (Book 18)  Children's Book U   \n",
      "\n",
      "                                            book_url  \n",
      "0               https://gufhtugu.com/101-dalmatians/  \n",
      "1            https://gufhtugu.com/a-letter-to-santa/  \n",
      "2             https://gufhtugu.com/a-quiet-night-in/  \n",
      "3       https://gufhtugu.com/a-very-special-visitor/  \n",
      "4  https://gufhtugu.com/aadam-khor-wehshi-maut-ka...  \n"
     ]
    }
   ],
   "source": [
    "book_data = pd.DataFrame(book_child_list)\n",
    "print(book_data.head())\n",
    "book_data.to_csv('books_children.csv', index = False)"
   ]
  },
  {
   "cell_type": "markdown",
   "metadata": {},
   "source": [
    "# 6.  Use the requests library to download islamic books web pages "
   ]
  },
  {
   "cell_type": "code",
   "execution_count": 127,
   "metadata": {},
   "outputs": [],
   "source": [
    "def extract(pagen):\n",
    "    headers = 'Mozilla/5.0 (Windows NT 10.0; Win64; x64) AppleWebKit/537.36 (KHTML, like Gecko) Chrome/103.0.0.0 Safari/537.36'\n",
    "    url = f'https://gufhtugu.com/product-category/islamic-books/page/{pagen}'\n",
    "    response = requests.get(url, headers)\n",
    "    soup = BeautifulSoup(response.text, 'html.parser')\n",
    "    return soup"
   ]
  },
  {
   "cell_type": "code",
   "execution_count": 128,
   "metadata": {},
   "outputs": [],
   "source": [
    "def transform(soup):\n",
    "    divs = soup.find_all('div', class_ = \"box-text box-text-products text-center grid-style-2\")\n",
    "    for item in divs:\n",
    "        book_title = item.find('a').text.strip()\n",
    "        book_islamic = item.find('p', class_ = \"category uppercase is-smaller no-text-overflow product-cat op-7\").text.strip()\n",
    "        book_url = item.find('a', attrs={'href': re.compile(\"^https://\")})\n",
    "        books_url = book_url.get('href')\n",
    "    \n",
    "\n",
    "        books_bs = {\n",
    "            'book_title'    : book_title,\n",
    "            'book_sell_cat' : book_islamic,\n",
    "            'book_url': books_url,\n",
    "            \n",
    "            }\n",
    "        book_islamic_list.append(books_bs)\n",
    "#         print(books_url)\n",
    "        \n",
    "    return "
   ]
  },
  {
   "cell_type": "code",
   "execution_count": 129,
   "metadata": {},
   "outputs": [
    {
     "name": "stdout",
     "output_type": "stream",
     "text": [
      "406\n"
     ]
    }
   ],
   "source": [
    "book_islamic_list = []\n",
    "for i in range(1, 18, 1):\n",
    "    Extract = extract(i)\n",
    "    transform(Extract)\n",
    "print(len(book_islamic_list))"
   ]
  },
  {
   "cell_type": "code",
   "execution_count": 130,
   "metadata": {},
   "outputs": [
    {
     "name": "stdout",
     "output_type": "stream",
     "text": [
      "                                     book_title       book_sell_cat  \\\n",
      "0                            100 Azeem Musliman           History U   \n",
      "1                 12 Maheeno’n k Fazail o Ahkam  Books Under 750PKR   \n",
      "2                12 saddi k Ulema e Baresagheer  Books Under 750PKR   \n",
      "3  Aa’nhazrat SAW k Sawalat or Sahaba k Jawabat  Books Under 750PKR   \n",
      "4                           Aadab Ul Mu’asharat  Books Under 750PKR   \n",
      "\n",
      "                                            book_url  \n",
      "0           https://gufhtugu.com/100-azeem-musliman/  \n",
      "1  https://gufhtugu.com/12-maheenon-k-fazail-o-ah...  \n",
      "2  https://gufhtugu.com/12-saddi-k-ulema-e-baresa...  \n",
      "3  https://gufhtugu.com/aanhazrat-saw-k-sawakat-o...  \n",
      "4           https://gufhtugu.com/aadab-ul-muasharat/  \n"
     ]
    }
   ],
   "source": [
    "book_data = pd.DataFrame(book_islamic_list)\n",
    "print(book_data.head())\n",
    "book_data.to_csv('books_islamic.csv', index = False)"
   ]
  },
  {
   "cell_type": "markdown",
   "metadata": {},
   "source": [
    "# 7.  Use the requests library to download urdu literature books web pages "
   ]
  },
  {
   "cell_type": "code",
   "execution_count": 131,
   "metadata": {},
   "outputs": [],
   "source": [
    "def extract(pagen):\n",
    "    headers = 'Mozilla/5.0 (Windows NT 10.0; Win64; x64) AppleWebKit/537.36 (KHTML, like Gecko) Chrome/103.0.0.0 Safari/537.36'\n",
    "    url = f'https://gufhtugu.com/product-category/urdu-literature-2/page/{pagen}'\n",
    "    response = requests.get(url, headers)\n",
    "    soup = BeautifulSoup(response.text, 'html.parser')\n",
    "    return soup"
   ]
  },
  {
   "cell_type": "markdown",
   "metadata": {},
   "source": [
    "## Use Beautiful Soup to parse and extract information"
   ]
  },
  {
   "cell_type": "code",
   "execution_count": 132,
   "metadata": {},
   "outputs": [],
   "source": [
    "def transform(soup):\n",
    "    divs = soup.find_all('div', class_ = \"box-text box-text-products text-center grid-style-2\")\n",
    "    for item in divs:\n",
    "        book_title = item.find('a').text.strip()\n",
    "        book_ul = item.find('p', class_ = \"category uppercase is-smaller no-text-overflow product-cat op-7\").text.strip()\n",
    "        book_url = item.find('a', attrs={'href': re.compile(\"^https://\")})\n",
    "        books_url = book_url.get('href')\n",
    "    \n",
    "\n",
    "        books_bs = {\n",
    "            'book_title'    : book_title,\n",
    "            'book_sell_cat' : book_ul,\n",
    "            'book_url': books_url,\n",
    "            \n",
    "            }\n",
    "        book_ul_list.append(books_bs)\n",
    "#         print(books_url)\n",
    "        \n",
    "    return "
   ]
  },
  {
   "cell_type": "code",
   "execution_count": 133,
   "metadata": {},
   "outputs": [
    {
     "name": "stdout",
     "output_type": "stream",
     "text": [
      "1696\n"
     ]
    }
   ],
   "source": [
    "book_ul_list = []\n",
    "for i in range(1, 72, 1):\n",
    "    Extract = extract(i)\n",
    "    transform(Extract)\n",
    "print(len(book_ul_list))"
   ]
  },
  {
   "cell_type": "code",
   "execution_count": 134,
   "metadata": {},
   "outputs": [
    {
     "name": "stdout",
     "output_type": "stream",
     "text": [
      "                                          book_title       book_sell_cat  \\\n",
      "0                                 100 Azeem Musliman           History U   \n",
      "1                      100 Azeem Sciencey Daryaftain  Books Under 750PKR   \n",
      "2                               100 azeem shakhsiyat     Autobiography U   \n",
      "3  100: Insani Tehzeeb Kay Mamar – 100 انسانی تہذ...         Biography U   \n",
      "4                      12 Maheeno’n k Fazail o Ahkam  Books Under 750PKR   \n",
      "\n",
      "                                            book_url  \n",
      "0           https://gufhtugu.com/100-azeem-musliman/  \n",
      "1  https://gufhtugu.com/so-azeem-sciencey-daryaft...  \n",
      "2         https://gufhtugu.com/100-azeem-shakhsiyat/  \n",
      "3  https://gufhtugu.com/100-insani-tehzeeb-kay-ma...  \n",
      "4  https://gufhtugu.com/12-maheenon-k-fazail-o-ah...  \n"
     ]
    }
   ],
   "source": [
    "book_data = pd.DataFrame(book_ul_list)\n",
    "print(book_data.head())\n",
    "book_data.to_csv('books_urdu_literature.csv', index = False)"
   ]
  },
  {
   "cell_type": "markdown",
   "metadata": {},
   "source": [
    "# 8.  Use the requests library to download urdu science books web pages "
   ]
  },
  {
   "cell_type": "code",
   "execution_count": 140,
   "metadata": {},
   "outputs": [],
   "source": [
    "def extract(pagen):\n",
    "    headers = 'Mozilla/5.0 (Windows NT 10.0; Win64; x64) AppleWebKit/537.36 (KHTML, like Gecko) Chrome/103.0.0.0 Safari/537.36'\n",
    "    url = f'https://gufhtugu.com/product-category/urdu-science/page/{pagen}'\n",
    "    response = requests.get(url, headers)\n",
    "    soup = BeautifulSoup(response.text, 'html.parser')\n",
    "    return soup"
   ]
  },
  {
   "cell_type": "markdown",
   "metadata": {},
   "source": [
    "## Use Beautiful Soup to parse and extract information"
   ]
  },
  {
   "cell_type": "code",
   "execution_count": 141,
   "metadata": {},
   "outputs": [],
   "source": [
    "def transform(soup):\n",
    "    divs = soup.find_all('div', class_ = \"box-text box-text-products text-center grid-style-2\")\n",
    "    for item in divs:\n",
    "        book_title = item.find('a').text.strip()\n",
    "        book_us = item.find('p', class_ = \"category uppercase is-smaller no-text-overflow product-cat op-7\").text.strip()\n",
    "        book_url = item.find('a', attrs={'href': re.compile(\"^https://\")})\n",
    "        books_url = book_url.get('href')\n",
    "    \n",
    "\n",
    "        books_bs = {\n",
    "            'book_title'    : book_title,\n",
    "            'book_sell_cat' : book_us,\n",
    "            'book_url': books_url,\n",
    "            \n",
    "            }\n",
    "        book_us_list.append(books_bs)\n",
    "#         print(books_url)\n",
    "        \n",
    "    return "
   ]
  },
  {
   "cell_type": "code",
   "execution_count": 142,
   "metadata": {},
   "outputs": [
    {
     "name": "stdout",
     "output_type": "stream",
     "text": [
      "88\n"
     ]
    }
   ],
   "source": [
    "book_us_list = []\n",
    "for i in range(1, 5, 1):\n",
    "    Extract = extract(i)\n",
    "    transform(Extract)\n",
    "print(len(book_us_list))"
   ]
  },
  {
   "cell_type": "code",
   "execution_count": 143,
   "metadata": {},
   "outputs": [
    {
     "name": "stdout",
     "output_type": "stream",
     "text": [
      "               book_title          book_sell_cat  \\\n",
      "0        Aain DaS sekhain  Emerging Technologies   \n",
      "1  Aaye Janwar Palty hain          Educational U   \n",
      "2                Alberoni            Biography U   \n",
      "3                 Allergy                 Health   \n",
      "4           Amli Asariyat          Educational U   \n",
      "\n",
      "                                       book_url  \n",
      "0        https://gufhtugu.com/aain-dos-sekhain/  \n",
      "1  https://gufhtugu.com/aaye-janwar-palty-hain/  \n",
      "2                https://gufhtugu.com/alberoni/  \n",
      "3                 https://gufhtugu.com/allergy/  \n",
      "4           https://gufhtugu.com/amli-asariyat/  \n"
     ]
    }
   ],
   "source": [
    "book_data = pd.DataFrame(book_us_list)\n",
    "print(book_data.head())\n",
    "book_data.to_csv('books_urdu_science.csv', index = False)"
   ]
  },
  {
   "cell_type": "markdown",
   "metadata": {},
   "source": [
    "# 9.  Use the requests library to download zinda kitaben books web pages "
   ]
  },
  {
   "cell_type": "code",
   "execution_count": 148,
   "metadata": {},
   "outputs": [],
   "source": [
    "def extract(pagen):\n",
    "    headers = 'Mozilla/5.0 (Windows NT 10.0; Win64; x64) AppleWebKit/537.36 (KHTML, like Gecko) Chrome/103.0.0.0 Safari/537.36'\n",
    "    url = f'https://gufhtugu.com/product-category/zinda-kitabein/page/{pagen}'\n",
    "    response = requests.get(url, headers)\n",
    "    soup = BeautifulSoup(response.text, 'html.parser')\n",
    "    return soup"
   ]
  },
  {
   "cell_type": "markdown",
   "metadata": {},
   "source": [
    "## Use Beautiful Soup to parse and extract information"
   ]
  },
  {
   "cell_type": "code",
   "execution_count": 149,
   "metadata": {},
   "outputs": [],
   "source": [
    "def transform(soup):\n",
    "    divs = soup.find_all('div', class_ = \"box-text box-text-products text-center grid-style-2\")\n",
    "    for item in divs:\n",
    "        book_title = item.find('a').text.strip()\n",
    "        book_zk = item.find('p', class_ = \"category uppercase is-smaller no-text-overflow product-cat op-7\").text.strip()\n",
    "        book_url = item.find('a', attrs={'href': re.compile(\"^https://\")})\n",
    "        books_url = book_url.get('href')\n",
    "    \n",
    "\n",
    "        books_bs = {\n",
    "            'book_title'    : book_title,\n",
    "            'book_sell_cat' : book_zk,\n",
    "            'book_url': books_url,\n",
    "            \n",
    "            }\n",
    "        book_zk_list.append(books_bs)\n",
    "#         print(books_url)\n",
    "        \n",
    "    return "
   ]
  },
  {
   "cell_type": "code",
   "execution_count": 150,
   "metadata": {},
   "outputs": [
    {
     "name": "stdout",
     "output_type": "stream",
     "text": [
      "82\n"
     ]
    }
   ],
   "source": [
    "book_zk_list = []\n",
    "for i in range(1, 5, 1):\n",
    "    Extract = extract(i)\n",
    "    transform(Extract)\n",
    "print(len(book_zk_list))"
   ]
  },
  {
   "cell_type": "code",
   "execution_count": 151,
   "metadata": {},
   "outputs": [
    {
     "name": "stdout",
     "output_type": "stream",
     "text": [
      "           book_title       book_sell_cat  \\\n",
      "0  Aashnaiyan kia kia  Books Under 750PKR   \n",
      "1  ADMI GHANEEMAT HAI  Books Under 750PKR   \n",
      "2     Ahang baz gasht  Books Under 750PKR   \n",
      "3  Amritsar ki yadein          Flash Sale   \n",
      "4   Aye Tahayyar Ishq  Books Under 750PKR   \n",
      "\n",
      "                                   book_url  \n",
      "0  https://gufhtugu.com/aashnaiyan-kia-kia/  \n",
      "1  https://gufhtugu.com/admi-ghaneemat-hai/  \n",
      "2     https://gufhtugu.com/ahang-baz-gasht/  \n",
      "3  https://gufhtugu.com/amritsar-ki-yadein/  \n",
      "4   https://gufhtugu.com/aye-tahayyar-ishq/  \n"
     ]
    }
   ],
   "source": [
    "book_data = pd.DataFrame(book_zk_list)\n",
    "print(book_data.head())\n",
    "book_data.to_csv('books_zinda_kitaben.csv', index = False)"
   ]
  },
  {
   "cell_type": "markdown",
   "metadata": {},
   "source": [
    "# 10.  Use the requests library to download uncategorized books web pages "
   ]
  },
  {
   "cell_type": "code",
   "execution_count": 152,
   "metadata": {},
   "outputs": [],
   "source": [
    "def extract(pagen):\n",
    "    headers = 'Mozilla/5.0 (Windows NT 10.0; Win64; x64) AppleWebKit/537.36 (KHTML, like Gecko) Chrome/103.0.0.0 Safari/537.36'\n",
    "    url = f'https://gufhtugu.com/product-category/uncategorized/page/{pagen}'\n",
    "    response = requests.get(url, headers)\n",
    "    soup = BeautifulSoup(response.text, 'html.parser')\n",
    "    return soup"
   ]
  },
  {
   "cell_type": "markdown",
   "metadata": {},
   "source": [
    "## Use Beautiful Soup to parse and extract information"
   ]
  },
  {
   "cell_type": "code",
   "execution_count": 153,
   "metadata": {},
   "outputs": [],
   "source": [
    "def transform(soup):\n",
    "    divs = soup.find_all('div', class_ = \"box-text box-text-products text-center grid-style-2\")\n",
    "    for item in divs:\n",
    "        book_title = item.find('a').text.strip()\n",
    "        book_uct = item.find('p', class_ = \"category uppercase is-smaller no-text-overflow product-cat op-7\").text.strip()\n",
    "        book_url = item.find('a', attrs={'href': re.compile(\"^https://\")})\n",
    "        books_url = book_url.get('href')\n",
    "    \n",
    "\n",
    "        books_bs = {\n",
    "            'book_title'    : book_title,\n",
    "            'book_sell_cat' : book_uct,\n",
    "            'book_url': books_url,\n",
    "            \n",
    "            }\n",
    "        book_uct_list.append(books_bs)\n",
    "#         print(books_url)\n",
    "        \n",
    "    return "
   ]
  },
  {
   "cell_type": "code",
   "execution_count": 154,
   "metadata": {},
   "outputs": [
    {
     "name": "stdout",
     "output_type": "stream",
     "text": [
      "82\n"
     ]
    }
   ],
   "source": [
    "book_uct_list = []\n",
    "for i in range(1, 5, 1):\n",
    "    Extract = extract(i)\n",
    "    transform(Extract)\n",
    "print(len(book_uct_list))"
   ]
  },
  {
   "cell_type": "code",
   "execution_count": 155,
   "metadata": {},
   "outputs": [
    {
     "name": "stdout",
     "output_type": "stream",
     "text": [
      "                              book_title       book_sell_cat  \\\n",
      "0                         Abr-E-Musalsal                 Mix   \n",
      "1                    AD DU’A Divine Help  Books Under 750PKR   \n",
      "2  Akbar Badshah aur Birbal ki Kehaniyan                 Mix   \n",
      "3                 Ankhon main to dam hay  Books Under 750PKR   \n",
      "4                       Asool -e-tehqeeq  Books Under 750PKR   \n",
      "\n",
      "                                            book_url  \n",
      "0               https://gufhtugu.com/abr-e-musalsal/  \n",
      "1           https://gufhtugu.com/ad-dua-divine-help/  \n",
      "2  https://gufhtugu.com/akbar-badshah-aur-birbal-...  \n",
      "3       https://gufhtugu.com/ankhon-main-to-dam-hay/  \n",
      "4              https://gufhtugu.com/asool-e-tehqeeq/  \n"
     ]
    }
   ],
   "source": [
    "book_data = pd.DataFrame(book_uct_list)\n",
    "print(book_data.head())\n",
    "book_data.to_csv('books_uncategorized.csv', index = False)"
   ]
  },
  {
   "cell_type": "markdown",
   "metadata": {},
   "source": [
    "# 11.  Use the requests library to download technical books web pages "
   ]
  },
  {
   "cell_type": "code",
   "execution_count": 156,
   "metadata": {},
   "outputs": [],
   "source": [
    "def extract(pagen):\n",
    "    headers = 'Mozilla/5.0 (Windows NT 10.0; Win64; x64) AppleWebKit/537.36 (KHTML, like Gecko) Chrome/103.0.0.0 Safari/537.36'\n",
    "    url = f'https://gufhtugu.com/product-category/technical/page/{pagen}'\n",
    "    response = requests.get(url, headers)\n",
    "    soup = BeautifulSoup(response.text, 'html.parser')\n",
    "    return soup"
   ]
  },
  {
   "cell_type": "markdown",
   "metadata": {},
   "source": [
    "## Use Beautiful Soup to parse and extract information"
   ]
  },
  {
   "cell_type": "code",
   "execution_count": 157,
   "metadata": {},
   "outputs": [],
   "source": [
    "def transform(soup):\n",
    "    divs = soup.find_all('div', class_ = \"box-text box-text-products text-center grid-style-2\")\n",
    "    for item in divs:\n",
    "        book_title = item.find('a').text.strip()\n",
    "        book_tec = item.find('p', class_ = \"category uppercase is-smaller no-text-overflow product-cat op-7\").text.strip()\n",
    "        book_url = item.find('a', attrs={'href': re.compile(\"^https://\")})\n",
    "        books_url = book_url.get('href')\n",
    "    \n",
    "\n",
    "        books_bs = {\n",
    "            'book_title'    : book_title,\n",
    "            'book_sell_cat' : book_tec,\n",
    "            'book_url': books_url,\n",
    "            \n",
    "            }\n",
    "        book_tec_list.append(books_bs)\n",
    "#         print(books_url)\n",
    "        \n",
    "    return "
   ]
  },
  {
   "cell_type": "code",
   "execution_count": 159,
   "metadata": {},
   "outputs": [
    {
     "name": "stdout",
     "output_type": "stream",
     "text": [
      "85\n"
     ]
    }
   ],
   "source": [
    "book_tec_list = []\n",
    "for i in range(1, 5, 1):\n",
    "    Extract = extract(i)\n",
    "    transform(Extract)\n",
    "print(len(book_tec_list))"
   ]
  },
  {
   "cell_type": "code",
   "execution_count": 160,
   "metadata": {},
   "outputs": [
    {
     "name": "stdout",
     "output_type": "stream",
     "text": [
      "                                       book_title          book_sell_cat  \\\n",
      "0                                           (C++)           Best Selling   \n",
      "1                                Aain DaS sekhain  Emerging Technologies   \n",
      "2                        AI for Babies & Toddlers     Books Under 750PKR   \n",
      "3                         Artificial Intelligence           Best Selling   \n",
      "4  Artificial Intelligence(AI) for the 5th Grader     Books Under 750PKR   \n",
      "\n",
      "                                            book_url  \n",
      "0                  https://gufhtugu.com/c-plus-plus/  \n",
      "1             https://gufhtugu.com/aain-dos-sekhain/  \n",
      "2                     https://gufhtugu.com/toddlers/  \n",
      "3      https://gufhtugu.com/artificial-intelligence/  \n",
      "4  https://gufhtugu.com/artificial-intelligenceai...  \n"
     ]
    }
   ],
   "source": [
    "book_data = pd.DataFrame(book_tec_list)\n",
    "print(book_data.head())\n",
    "book_data.to_csv('books_technical.csv', index = False)"
   ]
  },
  {
   "cell_type": "markdown",
   "metadata": {},
   "source": [
    "# 11.  Use the requests library to download upcoming books web pages "
   ]
  },
  {
   "cell_type": "code",
   "execution_count": 161,
   "metadata": {},
   "outputs": [],
   "source": [
    "def extract(pagen):\n",
    "    headers = 'Mozilla/5.0 (Windows NT 10.0; Win64; x64) AppleWebKit/537.36 (KHTML, like Gecko) Chrome/103.0.0.0 Safari/537.36'\n",
    "    url = f'https://gufhtugu.com/product-category/upcoming-books/page/{pagen}'\n",
    "    response = requests.get(url, headers)\n",
    "    soup = BeautifulSoup(response.text, 'html.parser')\n",
    "    return soup"
   ]
  },
  {
   "cell_type": "markdown",
   "metadata": {},
   "source": [
    "## Use Beautiful Soup to parse and extract information"
   ]
  },
  {
   "cell_type": "code",
   "execution_count": 162,
   "metadata": {},
   "outputs": [],
   "source": [
    "def transform(soup):\n",
    "    divs = soup.find_all('div', class_ = \"box-text box-text-products text-center grid-style-2\")\n",
    "    for item in divs:\n",
    "        book_title = item.find('a').text.strip()\n",
    "        book_upcom = item.find('p', class_ = \"category uppercase is-smaller no-text-overflow product-cat op-7\").text.strip()\n",
    "        book_url = item.find('a', attrs={'href': re.compile(\"^https://\")})\n",
    "        books_url = book_url.get('href')\n",
    "    \n",
    "\n",
    "        books_bs = {\n",
    "            'book_title'    : book_title,\n",
    "            'book_sell_cat' : book_upcom,\n",
    "            'book_url': books_url,\n",
    "            \n",
    "            }\n",
    "        book_upcom_list.append(books_bs)\n",
    "#         print(books_url)\n",
    "        \n",
    "    return "
   ]
  },
  {
   "cell_type": "code",
   "execution_count": 163,
   "metadata": {},
   "outputs": [
    {
     "name": "stdout",
     "output_type": "stream",
     "text": [
      "14\n"
     ]
    }
   ],
   "source": [
    "book_upcom_list = []\n",
    "for i in range(1, 2, 1):\n",
    "    Extract = extract(i)\n",
    "    transform(Extract)\n",
    "print(len(book_upcom_list))"
   ]
  },
  {
   "cell_type": "code",
   "execution_count": 164,
   "metadata": {},
   "outputs": [
    {
     "name": "stdout",
     "output_type": "stream",
     "text": [
      "                                    book_title          book_sell_cat  \\\n",
      "0  Data Science Interview – ڈیٹا سائنس انٹرویو  Emerging Technologies   \n",
      "1                        Dayar e Dil – دیار دل  Gufhtugu Publications   \n",
      "2                Guldasta Shahid Ahmed Dehlavi            Biography U   \n",
      "3                              Kafley Ujalon k              Afsanay U   \n",
      "4                            Kia Qafla Jata hy              Afsanay U   \n",
      "\n",
      "                                            book_url  \n",
      "0       https://gufhtugu.com/data-science-interview/  \n",
      "1                  https://gufhtugu.com/dayar-e-dil/  \n",
      "2  https://gufhtugu.com/guldasta-shahid-ahmed-deh...  \n",
      "3              https://gufhtugu.com/kafley-ujalon-k/  \n",
      "4            https://gufhtugu.com/kia-qafla-jata-hy/  \n"
     ]
    }
   ],
   "source": [
    "book_data = pd.DataFrame(book_upcom_list)\n",
    "print(book_data.head())\n",
    "book_data.to_csv('books_upcoming.csv', index = False)"
   ]
  },
  {
   "cell_type": "markdown",
   "metadata": {},
   "source": [
    "# 12.  Use the requests library to download booksets books web pages "
   ]
  },
  {
   "cell_type": "code",
   "execution_count": 168,
   "metadata": {},
   "outputs": [],
   "source": [
    "def extract(pagen):\n",
    "    headers = 'Mozilla/5.0 (Windows NT 10.0; Win64; x64) AppleWebKit/537.36 (KHTML, like Gecko) Chrome/103.0.0.0 Safari/537.36'\n",
    "    url = f'https://gufhtugu.com/product-category/book-sets/page/{pagen}'\n",
    "    response = requests.get(url, headers)\n",
    "    soup = BeautifulSoup(response.text, 'html.parser')\n",
    "    return soup"
   ]
  },
  {
   "cell_type": "markdown",
   "metadata": {},
   "source": [
    "## Use Beautiful Soup to parse and extract information"
   ]
  },
  {
   "cell_type": "code",
   "execution_count": 169,
   "metadata": {},
   "outputs": [],
   "source": [
    "def transform(soup):\n",
    "    divs = soup.find_all('div', class_ = \"box-text box-text-products text-center grid-style-2\")\n",
    "    for item in divs:\n",
    "        book_title = item.find('a').text.strip()\n",
    "        book_bset = item.find('p', class_ = \"category uppercase is-smaller no-text-overflow product-cat op-7\").text.strip()\n",
    "        book_url = item.find('a', attrs={'href': re.compile(\"^https://\")})\n",
    "        books_url = book_url.get('href')\n",
    "    \n",
    "\n",
    "        books_bs = {\n",
    "            'book_title'    : book_title,\n",
    "            'book_sell_cat' : book_bset,\n",
    "            'book_url': books_url,\n",
    "            \n",
    "            }\n",
    "        book_bset_list.append(books_bs)\n",
    "#         print(books_url)\n",
    "        \n",
    "    return "
   ]
  },
  {
   "cell_type": "code",
   "execution_count": 170,
   "metadata": {},
   "outputs": [
    {
     "name": "stdout",
     "output_type": "stream",
     "text": [
      "29\n"
     ]
    }
   ],
   "source": [
    "book_bset_list = []\n",
    "for i in range(1, 3, 1):\n",
    "    Extract = extract(i)\n",
    "    transform(Extract)\n",
    "print(len(book_bset_list))"
   ]
  },
  {
   "cell_type": "code",
   "execution_count": 171,
   "metadata": {},
   "outputs": [
    {
     "name": "stdout",
     "output_type": "stream",
     "text": [
      "                                        book_title book_sell_cat  \\\n",
      "0        Aleem Ahmed Books Set – علیم احمد کتب سیٹ   Aleem Ahmed   \n",
      "1                               Asbaq E Tarikh Set     Book Sets   \n",
      "2      Ashfaq Ahmad Books Set – اشفاق احمد کتب سیٹ  Ashfaq Ahmed   \n",
      "3                   Bachon Ka Iqbal (4 Volume Set)     Book Sets   \n",
      "4  Data Scientist Books Set – ڈیٹا سائنٹسٹ کتب سیٹ     Book Sets   \n",
      "\n",
      "                                            book_url  \n",
      "0        https://gufhtugu.com/aleem-ahmed-books-set/  \n",
      "1           https://gufhtugu.com/asbaq-e-tarikh-set/  \n",
      "2       https://gufhtugu.com/ashfaq-ahmad-books-set/  \n",
      "3  https://gufhtugu.com/bachon-ka-iqbal-4-volume-...  \n",
      "4     https://gufhtugu.com/data-scientist-books-set/  \n"
     ]
    }
   ],
   "source": [
    "book_data = pd.DataFrame(book_bset_list)\n",
    "print(book_data.head())\n",
    "book_data.to_csv('books_booksets.csv', index = False)"
   ]
  },
  {
   "cell_type": "markdown",
   "metadata": {},
   "source": [
    "# 13.  Use the requests library to download classics books web pages "
   ]
  },
  {
   "cell_type": "code",
   "execution_count": 172,
   "metadata": {},
   "outputs": [],
   "source": [
    "def extract(pagen):\n",
    "    headers = 'Mozilla/5.0 (Windows NT 10.0; Win64; x64) AppleWebKit/537.36 (KHTML, like Gecko) Chrome/103.0.0.0 Safari/537.36'\n",
    "    url = f'https://gufhtugu.com/product-category/classics/page/{pagen}'\n",
    "    response = requests.get(url, headers)\n",
    "    soup = BeautifulSoup(response.text, 'html.parser')\n",
    "    return soup"
   ]
  },
  {
   "cell_type": "markdown",
   "metadata": {},
   "source": [
    "## Use Beautiful Soup to parse and extract information"
   ]
  },
  {
   "cell_type": "code",
   "execution_count": 173,
   "metadata": {},
   "outputs": [],
   "source": [
    "def transform(soup):\n",
    "    divs = soup.find_all('div', class_ = \"box-text box-text-products text-center grid-style-2\")\n",
    "    for item in divs:\n",
    "        book_title = item.find('a').text.strip()\n",
    "        book_classic = item.find('p', class_ = \"category uppercase is-smaller no-text-overflow product-cat op-7\").text.strip()\n",
    "        book_url = item.find('a', attrs={'href': re.compile(\"^https://\")})\n",
    "        books_url = book_url.get('href')\n",
    "    \n",
    "\n",
    "        books_bs = {\n",
    "            'book_title'    : book_title,\n",
    "            'book_sell_cat' : book_classic,\n",
    "            'book_url': books_url,\n",
    "            \n",
    "            }\n",
    "        book_classic_list.append(books_bs)\n",
    "#         print(books_url)\n",
    "        \n",
    "    return "
   ]
  },
  {
   "cell_type": "code",
   "execution_count": 174,
   "metadata": {},
   "outputs": [
    {
     "name": "stdout",
     "output_type": "stream",
     "text": [
      "69\n"
     ]
    }
   ],
   "source": [
    "book_classic_list = []\n",
    "for i in range(1, 4, 1):\n",
    "    Extract = extract(i)\n",
    "    transform(Extract)\n",
    "print(len(book_classic_list))"
   ]
  },
  {
   "cell_type": "code",
   "execution_count": 175,
   "metadata": {},
   "outputs": [
    {
     "name": "stdout",
     "output_type": "stream",
     "text": [
      "                                 book_title       book_sell_cat  \\\n",
      "0                               1984 (URDU)            Classics   \n",
      "1  21st century Nobel Inaam yafta Khawateen            Classics   \n",
      "2                        Aik Pagal ki Diary  Books Under 750PKR   \n",
      "3                                    Ajnabi  Books Under 750PKR   \n",
      "4                                Andhay Log            Classics   \n",
      "\n",
      "                                            book_url  \n",
      "0        https://gufhtugu.com/1984-urdu-translation/  \n",
      "1  https://gufhtugu.com/21st-century-nobel-inaam-...  \n",
      "2           https://gufhtugu.com/aik-pagal-ki-diary/  \n",
      "3                       https://gufhtugu.com/ajnabi/  \n",
      "4                   https://gufhtugu.com/andhay-log/  \n"
     ]
    }
   ],
   "source": [
    "book_data = pd.DataFrame(book_classic_list)\n",
    "print(book_data.head())\n",
    "book_data.to_csv('books_classics.csv', index = False)"
   ]
  },
  {
   "cell_type": "markdown",
   "metadata": {},
   "source": [
    "# 14.  Use the requests library to download english literature books web pages "
   ]
  },
  {
   "cell_type": "code",
   "execution_count": 176,
   "metadata": {},
   "outputs": [],
   "source": [
    "def extract(pagen):\n",
    "    headers = 'Mozilla/5.0 (Windows NT 10.0; Win64; x64) AppleWebKit/537.36 (KHTML, like Gecko) Chrome/103.0.0.0 Safari/537.36'\n",
    "    url = f'https://gufhtugu.com/product-category/english-literature/page/{pagen}'\n",
    "    response = requests.get(url, headers)\n",
    "    soup = BeautifulSoup(response.text, 'html.parser')\n",
    "    return soup"
   ]
  },
  {
   "cell_type": "markdown",
   "metadata": {},
   "source": [
    "## Use Beautiful Soup to parse and extract information"
   ]
  },
  {
   "cell_type": "code",
   "execution_count": 177,
   "metadata": {},
   "outputs": [],
   "source": [
    "def transform(soup):\n",
    "    divs = soup.find_all('div', class_ = \"box-text box-text-products text-center grid-style-2\")\n",
    "    for item in divs:\n",
    "        book_title = item.find('a').text.strip()\n",
    "        book_el = item.find('p', class_ = \"category uppercase is-smaller no-text-overflow product-cat op-7\").text.strip()\n",
    "        book_url = item.find('a', attrs={'href': re.compile(\"^https://\")})\n",
    "        books_url = book_url.get('href')\n",
    "    \n",
    "\n",
    "        books_bs = {\n",
    "            'book_title'    : book_title,\n",
    "            'book_sell_cat' : book_el,\n",
    "            'book_url': books_url,\n",
    "            \n",
    "            }\n",
    "        book_el_list.append(books_bs)\n",
    "#         print(books_url)\n",
    "        \n",
    "    return "
   ]
  },
  {
   "cell_type": "code",
   "execution_count": 178,
   "metadata": {},
   "outputs": [
    {
     "name": "stdout",
     "output_type": "stream",
     "text": [
      "841\n"
     ]
    }
   ],
   "source": [
    "book_el_list = []\n",
    "for i in range(1, 37, 1):\n",
    "    Extract = extract(i)\n",
    "    transform(Extract)\n",
    "print(len(book_el_list))"
   ]
  },
  {
   "cell_type": "code",
   "execution_count": 179,
   "metadata": {},
   "outputs": [
    {
     "name": "stdout",
     "output_type": "stream",
     "text": [
      "                book_title       book_sell_cat  \\\n",
      "0           101 Dalmatians     Children's Book   \n",
      "1           1984 – English  Books Under 750PKR   \n",
      "2      50 Success Classics  English Literature   \n",
      "3  A Brief History of Time       Educational E   \n",
      "4          A Call To Allah  English Literature   \n",
      "\n",
      "                                        book_url  \n",
      "0           https://gufhtugu.com/101-dalmatians/  \n",
      "1             https://gufhtugu.com/1984-english/  \n",
      "2      https://gufhtugu.com/50-success-classics/  \n",
      "3  https://gufhtugu.com/a-brief-history-of-time/  \n",
      "4          https://gufhtugu.com/a-call-to-allah/  \n"
     ]
    }
   ],
   "source": [
    "book_data = pd.DataFrame(book_el_list)\n",
    "print(book_data.head())\n",
    "book_data.to_csv('books_english_literature.csv', index = False)"
   ]
  },
  {
   "cell_type": "markdown",
   "metadata": {},
   "source": [
    "# 15.  Use the requests library to download health books web pages "
   ]
  },
  {
   "cell_type": "code",
   "execution_count": 180,
   "metadata": {},
   "outputs": [],
   "source": [
    "def extract(pagen):\n",
    "    headers = 'Mozilla/5.0 (Windows NT 10.0; Win64; x64) AppleWebKit/537.36 (KHTML, like Gecko) Chrome/103.0.0.0 Safari/537.36'\n",
    "    url = f'https://gufhtugu.com/product-category/health/page/{pagen}'\n",
    "    response = requests.get(url, headers)\n",
    "    soup = BeautifulSoup(response.text, 'html.parser')\n",
    "    return soup"
   ]
  },
  {
   "cell_type": "markdown",
   "metadata": {},
   "source": [
    "## Use Beautiful Soup to parse and extract information"
   ]
  },
  {
   "cell_type": "code",
   "execution_count": 181,
   "metadata": {},
   "outputs": [],
   "source": [
    "def transform(soup):\n",
    "    divs = soup.find_all('div', class_ = \"box-text box-text-products text-center grid-style-2\")\n",
    "    for item in divs:\n",
    "        book_title = item.find('a').text.strip()\n",
    "        book_health = item.find('p', class_ = \"category uppercase is-smaller no-text-overflow product-cat op-7\").text.strip()\n",
    "        book_url = item.find('a', attrs={'href': re.compile(\"^https://\")})\n",
    "        books_url = book_url.get('href')\n",
    "    \n",
    "\n",
    "        books_bs = {\n",
    "            'book_title'    : book_title,\n",
    "            'book_sell_cat' : book_health,\n",
    "            'book_url': books_url,\n",
    "            \n",
    "            }\n",
    "        book_health_list.append(books_bs)\n",
    "#         print(books_url)\n",
    "        \n",
    "    return "
   ]
  },
  {
   "cell_type": "code",
   "execution_count": 182,
   "metadata": {},
   "outputs": [
    {
     "name": "stdout",
     "output_type": "stream",
     "text": [
      "16\n"
     ]
    }
   ],
   "source": [
    "book_health_list = []\n",
    "for i in range(1, 2, 1):\n",
    "    Extract = extract(i)\n",
    "    transform(Extract)\n",
    "print(len(book_health_list))"
   ]
  },
  {
   "cell_type": "code",
   "execution_count": 183,
   "metadata": {},
   "outputs": [
    {
     "name": "stdout",
     "output_type": "stream",
     "text": [
      "                             book_title          book_sell_cat  \\\n",
      "0                               Allergy                 Health   \n",
      "1  Amraz e Naswan Apna Ilaj Khud Kijye!                 Health   \n",
      "2              Cancer – aik muhlik marz     Books Under 750PKR   \n",
      "3              Chati k cancer se Bachao  Emerging Technologies   \n",
      "4                     Ghiza or Ghizayat             Flash Sale   \n",
      "\n",
      "                                            book_url  \n",
      "0                      https://gufhtugu.com/allergy/  \n",
      "1  https://gufhtugu.com/amraz-e-naswan-apna-ilaj-...  \n",
      "2       https://gufhtugu.com/cancer-aik-muhlik-marz/  \n",
      "3     https://gufhtugu.com/chati-k-cancer-se-bachao/  \n",
      "4            https://gufhtugu.com/ghiza-or-ghizayat/  \n"
     ]
    }
   ],
   "source": [
    "book_data = pd.DataFrame(book_health_list)\n",
    "print(book_data.head())\n",
    "book_data.to_csv('books_health.csv', index = False)"
   ]
  },
  {
   "cell_type": "markdown",
   "metadata": {},
   "source": [
    "# Use the requests library to download Gufhtugu Publications books web pages "
   ]
  },
  {
   "cell_type": "code",
   "execution_count": 184,
   "metadata": {},
   "outputs": [],
   "source": [
    "def extract(pagen):\n",
    "    headers = 'Mozilla/5.0 (Windows NT 10.0; Win64; x64) AppleWebKit/537.36 (KHTML, like Gecko) Chrome/103.0.0.0 Safari/537.36'\n",
    "    url = f'https://gufhtugu.com/product-category/gufhtugu-publications/page/{pagen}'\n",
    "    response = requests.get(url, headers)\n",
    "    soup = BeautifulSoup(response.text, 'html.parser')\n",
    "    return soup"
   ]
  },
  {
   "cell_type": "markdown",
   "metadata": {},
   "source": [
    "## Use Beautiful Soup to parse and extract information"
   ]
  },
  {
   "cell_type": "code",
   "execution_count": 186,
   "metadata": {},
   "outputs": [],
   "source": [
    "def transform(soup):\n",
    "    divs = soup.find_all('div', class_ = \"box-text box-text-products text-center grid-style-2\")\n",
    "    for item in divs:\n",
    "        book_title = item.find('a').text.strip()\n",
    "        book_gp = item.find('p', class_ = \"category uppercase is-smaller no-text-overflow product-cat op-7\").text.strip()\n",
    "        book_url = item.find('a', attrs={'href': re.compile(\"^https://\")})\n",
    "        books_url = book_url.get('href')\n",
    "    \n",
    "\n",
    "        books_bs = {\n",
    "            'book_title'    : book_title,\n",
    "            'book_sell_cat' : book_gp,\n",
    "            'book_url': books_url,\n",
    "            \n",
    "            }\n",
    "        book_gp_list.append(books_bs)\n",
    "#         print(books_url)\n",
    "        \n",
    "    return "
   ]
  },
  {
   "cell_type": "code",
   "execution_count": 187,
   "metadata": {},
   "outputs": [
    {
     "name": "stdout",
     "output_type": "stream",
     "text": [
      "79\n"
     ]
    }
   ],
   "source": [
    "book_gp_list = []\n",
    "for i in range(1, 5, 1):\n",
    "    Extract = extract(i)\n",
    "    transform(Extract)\n",
    "print(len(book_gp_list))"
   ]
  },
  {
   "cell_type": "code",
   "execution_count": 188,
   "metadata": {},
   "outputs": [
    {
     "name": "stdout",
     "output_type": "stream",
     "text": [
      "                                       book_title       book_sell_cat  \\\n",
      "0                                           (C++)        Best Selling   \n",
      "1                        AI for Babies & Toddlers  Books Under 750PKR   \n",
      "2       Aleem Ahmed Books Set – علیم احمد کتب سیٹ         Aleem Ahmed   \n",
      "3                         Artificial Intelligence        Best Selling   \n",
      "4  Artificial Intelligence(AI) for the 5th Grader  Books Under 750PKR   \n",
      "\n",
      "                                            book_url  \n",
      "0                  https://gufhtugu.com/c-plus-plus/  \n",
      "1                     https://gufhtugu.com/toddlers/  \n",
      "2        https://gufhtugu.com/aleem-ahmed-books-set/  \n",
      "3      https://gufhtugu.com/artificial-intelligence/  \n",
      "4  https://gufhtugu.com/artificial-intelligenceai...  \n"
     ]
    }
   ],
   "source": [
    "book_data = pd.DataFrame(book_gp_list)\n",
    "print(book_data.head())\n",
    "book_data.to_csv('gufhtugu_publications_books.csv', index = False)"
   ]
  },
  {
   "cell_type": "markdown",
   "metadata": {},
   "source": [
    "# Thanks for Reading"
   ]
  }
 ],
 "metadata": {
  "kernelspec": {
   "display_name": "Python 3 (ipykernel)",
   "language": "python",
   "name": "python3"
  },
  "language_info": {
   "codemirror_mode": {
    "name": "ipython",
    "version": 3
   },
   "file_extension": ".py",
   "mimetype": "text/x-python",
   "name": "python",
   "nbconvert_exporter": "python",
   "pygments_lexer": "ipython3",
   "version": "3.9.6"
  }
 },
 "nbformat": 4,
 "nbformat_minor": 2
}
